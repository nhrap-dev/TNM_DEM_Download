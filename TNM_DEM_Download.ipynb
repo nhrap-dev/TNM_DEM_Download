{
 "cells": [
  {
   "cell_type": "code",
   "execution_count": 1,
   "metadata": {},
   "outputs": [],
   "source": [
    "def TNMDem(minX, minY, maxX, maxY, arcSecond):\n",
    "    if minX > maxX:\n",
    "        raise Exception(f\"minX is greater than maxX\")\n",
    "    if minY > maxY:\n",
    "        raise Exception(f\"minY is greater than maxY\")\n",
    "    '''\n",
    "    http://prd-tnm.s3.amazonaws.com/index.html?prefix=StagedProducts/Elevation/1/TIFF/\n",
    "    https://prd-tnm.s3.amazonaws.com/StagedProducts/Elevation/1/TIFF/n19w098/USGS_1_n19w098.tif\n",
    "    15 folders e instead of w, ignore for now\n",
    "    '''\n",
    "    list = []\n",
    "    xRange = range(int(minX),int(maxX)+1)\n",
    "    yRange = range(int(minY),int(maxY)+1)\n",
    "    for x in xRange:\n",
    "        if x < 0:\n",
    "            x = x * -1\n",
    "        x = f\"{x:03}\"\n",
    "        for y in yRange:\n",
    "            OneArcS=f\"https://prd-tnm.s3.amazonaws.com/StagedProducts/Elevation/1/TIFF/n{y}w{x}/USGS_1_n{y}w{x}.tif\"\n",
    "            OneThirdArcS=f\"https://prd-tnm.s3.amazonaws.com/StagedProducts/Elevation/13/TIFF/n{y}w{x}/USGS_13_n{y}w{x}.tif\"\n",
    "            if arcSecond == '1':\n",
    "                list.append(OneArcS)\n",
    "            elif arcSecond == '13':\n",
    "                list.append(OneThirdArcS)\n",
    "            else:\n",
    "                raise Exception(f\"Enter '1' for 1 arcsecond or '13' for 1/3 arcsecond, with quotation marks. You entered {arcSecond}.\")\n",
    "    list.sort()\n",
    "    return list"
   ]
  },
  {
   "cell_type": "code",
   "execution_count": 2,
   "metadata": {},
   "outputs": [],
   "source": [
    "minX = -97.008\n",
    "minY = 29.699\n",
    "maxX = -95.879\n",
    "maxY = 30.792"
   ]
  },
  {
   "cell_type": "code",
   "execution_count": 3,
   "metadata": {},
   "outputs": [],
   "source": [
    "arcSecond = '1'"
   ]
  },
  {
   "cell_type": "code",
   "execution_count": 4,
   "metadata": {},
   "outputs": [
    {
     "name": "stdout",
     "output_type": "stream",
     "text": [
      "6 links\n",
      "https://prd-tnm.s3.amazonaws.com/StagedProducts/Elevation/1/TIFF/n29w095/USGS_1_n29w095.tif\n",
      "https://prd-tnm.s3.amazonaws.com/StagedProducts/Elevation/1/TIFF/n29w096/USGS_1_n29w096.tif\n",
      "https://prd-tnm.s3.amazonaws.com/StagedProducts/Elevation/1/TIFF/n29w097/USGS_1_n29w097.tif\n",
      "https://prd-tnm.s3.amazonaws.com/StagedProducts/Elevation/1/TIFF/n30w095/USGS_1_n30w095.tif\n",
      "https://prd-tnm.s3.amazonaws.com/StagedProducts/Elevation/1/TIFF/n30w096/USGS_1_n30w096.tif\n",
      "https://prd-tnm.s3.amazonaws.com/StagedProducts/Elevation/1/TIFF/n30w097/USGS_1_n30w097.tif\n"
     ]
    }
   ],
   "source": [
    "DEMTiles = TNMDem(minX, minY, maxX, maxY, arcSecond)\n",
    "\n",
    "print(f\"{len(DEMTiles)} links\")\n",
    "\n",
    "for item in DEMTiles:\n",
    "    print(item)"
   ]
  },
  {
   "cell_type": "code",
   "execution_count": null,
   "metadata": {},
   "outputs": [],
   "source": []
  }
 ],
 "metadata": {
  "kernelspec": {
   "display_name": "Python 3",
   "language": "python",
   "name": "python3"
  },
  "language_info": {
   "codemirror_mode": {
    "name": "ipython",
    "version": 3
   },
   "file_extension": ".py",
   "mimetype": "text/x-python",
   "name": "python",
   "nbconvert_exporter": "python",
   "pygments_lexer": "ipython3",
   "version": "3.7.8"
  }
 },
 "nbformat": 4,
 "nbformat_minor": 4
}
