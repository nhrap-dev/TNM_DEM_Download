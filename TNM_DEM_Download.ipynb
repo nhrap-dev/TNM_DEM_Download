{
 "cells": [
  {
   "cell_type": "markdown",
   "metadata": {},
   "source": [
    "# The National Map Digital Elevation Model Download\n",
    "2021-02-11 Colin Lindeman, NiyamIT\n",
    "\n",
    "Intended for a user to input their rectangle representing their study region and this script will print a list of urls to those DEM files for their study region. The user will need to click the link and download the file to the appropriate location.\n",
    "\n",
    "The National Map Amazon s3 bucket:\n",
    "http://prd-tnm.s3.amazonaws.com/index.html?prefix=StagedProducts/Elevation/1/TIFF/\n",
    "\n",
    "An example of a tif url to download:\n",
    "https://prd-tnm.s3.amazonaws.com/StagedProducts/Elevation/1/TIFF/n19w098/USGS_1_n19w098.tif"
   ]
  },
  {
   "cell_type": "code",
   "execution_count": 11,
   "metadata": {},
   "outputs": [],
   "source": [
    "def TNM(minX, minY, maxX, maxY):\n",
    "    '''\n",
    "    http://prd-tnm.s3.amazonaws.com/index.html?prefix=StagedProducts/Elevation/1/TIFF/\n",
    "    https://prd-tnm.s3.amazonaws.com/StagedProducts/Elevation/1/TIFF/n19w098/USGS_1_n19w098.tif\n",
    "    15 folders e instead of w, ignore for now\n",
    "    '''\n",
    "    list = []\n",
    "    xRange = range(int(minX),int(maxX)+1)\n",
    "    yRange = range(int(minY),int(maxY)+1)\n",
    "    for x in xRange:\n",
    "        if x < 0:\n",
    "            x = x * -1\n",
    "        for y in yRange:\n",
    "            #list.append(f\"{y}N{x*-1}W\")\n",
    "            list.append(f\"https://prd-tnm.s3.amazonaws.com/StagedProducts/Elevation/1/TIFF/n{y}w{x}/USGS_1_n{y}w{x}.tif\")\n",
    "    list.sort()\n",
    "    return list"
   ]
  },
  {
   "cell_type": "markdown",
   "metadata": {},
   "source": [
    "HOW TO USE:\n",
    "\n",
    "1. Enter the minimum bounding rectangle values in longitude/latitude.\n",
    "    * Replace the values in the code below and run the cell.\n",
    "    * x = TNM(minX, minY, maxX, maxY).\n",
    "\n",
    "2. Run the cell. You may need to run the first cell first.\n",
    "\n",
    "3. Click each link and download the files to C:\\HazardInput\\DEM\\<study region name>\\\n",
    "    or where your Hazus is installed if different than C:\\.\n",
    "    \n",
    "4. When all required DEM tiles are downloaded, return to the User Data dialog, \n",
    "    click Browse button and point to each of the downloaded TIF files."
   ]
  },
  {
   "cell_type": "code",
   "execution_count": 16,
   "metadata": {},
   "outputs": [
    {
     "name": "stdout",
     "output_type": "stream",
     "text": [
      "12 links\n",
      "https://prd-tnm.s3.amazonaws.com/StagedProducts/Elevation/1/TIFF/n33w113/USGS_1_n33w113.tif\n",
      "https://prd-tnm.s3.amazonaws.com/StagedProducts/Elevation/1/TIFF/n33w114/USGS_1_n33w114.tif\n",
      "https://prd-tnm.s3.amazonaws.com/StagedProducts/Elevation/1/TIFF/n33w115/USGS_1_n33w115.tif\n",
      "https://prd-tnm.s3.amazonaws.com/StagedProducts/Elevation/1/TIFF/n33w116/USGS_1_n33w116.tif\n",
      "https://prd-tnm.s3.amazonaws.com/StagedProducts/Elevation/1/TIFF/n33w117/USGS_1_n33w117.tif\n",
      "https://prd-tnm.s3.amazonaws.com/StagedProducts/Elevation/1/TIFF/n33w118/USGS_1_n33w118.tif\n",
      "https://prd-tnm.s3.amazonaws.com/StagedProducts/Elevation/1/TIFF/n34w113/USGS_1_n34w113.tif\n",
      "https://prd-tnm.s3.amazonaws.com/StagedProducts/Elevation/1/TIFF/n34w114/USGS_1_n34w114.tif\n",
      "https://prd-tnm.s3.amazonaws.com/StagedProducts/Elevation/1/TIFF/n34w115/USGS_1_n34w115.tif\n",
      "https://prd-tnm.s3.amazonaws.com/StagedProducts/Elevation/1/TIFF/n34w116/USGS_1_n34w116.tif\n",
      "https://prd-tnm.s3.amazonaws.com/StagedProducts/Elevation/1/TIFF/n34w117/USGS_1_n34w117.tif\n",
      "https://prd-tnm.s3.amazonaws.com/StagedProducts/Elevation/1/TIFF/n34w118/USGS_1_n34w118.tif\n"
     ]
    }
   ],
   "source": [
    "DEMTiles = TNM(-118.213, 33.108, -113.757, 34.396)\n",
    "\n",
    "print(f\"{len(DEMTiles)} links\")\n",
    "\n",
    "for item in DEMTiles:\n",
    "    print(item)"
   ]
  },
  {
   "cell_type": "code",
   "execution_count": 10,
   "metadata": {},
   "outputs": [],
   "source": []
  },
  {
   "cell_type": "code",
   "execution_count": null,
   "metadata": {},
   "outputs": [],
   "source": []
  }
 ],
 "metadata": {
  "kernelspec": {
   "display_name": "Python 3",
   "language": "python",
   "name": "python3"
  },
  "language_info": {
   "codemirror_mode": {
    "name": "ipython",
    "version": 3
   },
   "file_extension": ".py",
   "mimetype": "text/x-python",
   "name": "python",
   "nbconvert_exporter": "python",
   "pygments_lexer": "ipython3",
   "version": "3.7.8"
  }
 },
 "nbformat": 4,
 "nbformat_minor": 4
}
