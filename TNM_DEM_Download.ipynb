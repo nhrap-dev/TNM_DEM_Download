{
 "cells": [
  {
   "cell_type": "markdown",
   "metadata": {},
   "source": [
    "# To run\n",
    "1.  Update User Input Cell x and y values \n",
    "2.  Click the Run button"
   ]
  },
  {
   "cell_type": "markdown",
   "metadata": {},
   "source": [
    "# User Input: "
   ]
  },
  {
   "cell_type": "code",
   "execution_count": 2,
   "metadata": {},
   "outputs": [
    {
     "name": "stdout",
     "output_type": "stream",
     "text": [
      "xRange: range(96, 99)\n",
      "yRange: range(30, 32)\n",
      "6 links\n",
      "https://prd-tnm.s3.amazonaws.com/StagedProducts/Elevation/1/TIFF/n30w096/USGS_1_n30w096.tif\n",
      "https://prd-tnm.s3.amazonaws.com/StagedProducts/Elevation/1/TIFF/n30w097/USGS_1_n30w097.tif\n",
      "https://prd-tnm.s3.amazonaws.com/StagedProducts/Elevation/1/TIFF/n30w098/USGS_1_n30w098.tif\n",
      "https://prd-tnm.s3.amazonaws.com/StagedProducts/Elevation/1/TIFF/n31w096/USGS_1_n31w096.tif\n",
      "https://prd-tnm.s3.amazonaws.com/StagedProducts/Elevation/1/TIFF/n31w097/USGS_1_n31w097.tif\n",
      "https://prd-tnm.s3.amazonaws.com/StagedProducts/Elevation/1/TIFF/n31w098/USGS_1_n31w098.tif\n"
     ]
    }
   ],
   "source": [
    "'''USER INPUT HERE. CHANGE THESE FOUR VALUES THEN CLICK RUN'''\n",
    "westmostX = -97.008\n",
    "eastmostX = -95.879\n",
    "northmostY = 30.792\n",
    "southmostY = 29.699\n",
    "\n",
    "'''Leave this as 1'''\n",
    "arcSecond = '1' #Can be 1 for 1 arc second (Default) or 13 for 1/3 arc second.\n",
    "\n",
    "'''This function creates the links'''\n",
    "import tnmdem\n",
    "tnmdem.TNMDem(westmostX, southmostY, eastmostX, northmostY, arcSecond)"
   ]
  }
 ],
 "metadata": {
  "kernelspec": {
   "display_name": "Python 3",
   "language": "python",
   "name": "python3"
  },
  "language_info": {
   "codemirror_mode": {
    "name": "ipython",
    "version": 3
   },
   "file_extension": ".py",
   "mimetype": "text/x-python",
   "name": "python",
   "nbconvert_exporter": "python",
   "pygments_lexer": "ipython3",
   "version": "3.8.3"
  }
 },
 "nbformat": 4,
 "nbformat_minor": 4
}
